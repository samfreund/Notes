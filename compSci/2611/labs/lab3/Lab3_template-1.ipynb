{
 "cells": [
  {
   "cell_type": "markdown",
   "id": "66abe288",
   "metadata": {},
   "source": [
    "**TODO** Replace the contents of this cell with a high level description of the problem your notebook is presenting"
   ]
  },
  {
   "cell_type": "code",
   "execution_count": 1,
   "id": "70636ff2",
   "metadata": {},
   "outputs": [],
   "source": [
    "import random\n",
    "\n",
    "def calculate_birthday_prob(group_size: int, num_sims: int) -> float:\n",
    "    \"\"\"\n",
    "    Estimate the probability that at least two people in a group share the same birthday.\n",
    "\n",
    "    Args:\n",
    "        group_size (int): Number of people in the group.\n",
    "        num_sims (int): Number of simulation runs.\n",
    "\n",
    "    Returns:\n",
    "        float: Estimated probability of a shared birthday in the group.\n",
    "    \"\"\"\n",
    "    match_count = 0\n",
    "\n",
    "    for _ in range(num_sims):\n",
    "        birthdays = random.choices(range(1, 366), k=group_size)\n",
    "        if len(set(birthdays)) < group_size:\n",
    "            match_count += 1\n",
    "\n",
    "    return match_count / num_sims\n",
    "\n",
    "def calculate_min_group(threshold: float, num_sims: int) -> int:\n",
    "    \"\"\"\n",
    "    Find the minimum group size such that the probability of at least two people sharing a birthday\n",
    "    meets or exceeds the given threshold.\n",
    "\n",
    "    Args:\n",
    "        threshold (float): Desired probability threshold (e.g., 0.5 for 50%).\n",
    "        num_sims (int): Number of simulation runs.\n",
    "\n",
    "    Returns:\n",
    "        int: Minimum group size required to reach the threshold probability.\n",
    "    \"\"\"\n",
    "    group_size = 1\n",
    "    while True:\n",
    "        prob = calculate_birthday_prob(group_size, num_sims)\n",
    "        if prob >= threshold:\n",
    "            print()   \n",
    "            return group_size\n",
    "        group_size += 1\n",
    "        print(f\"Now testing group size: {group_size}\", end=\"\\r\")\n"
   ]
  },
  {
   "cell_type": "code",
   "execution_count": 6,
   "id": "78bf3f9f",
   "metadata": {},
   "outputs": [
    {
     "name": "stdout",
     "output_type": "stream",
     "text": [
      "Help on function calculate_birthday_prob in module __main__:\n",
      "\n",
      "calculate_birthday_prob(group_size: int, num_sims: int) -> float\n",
      "    Estimate the probability that at least two people in a group share the same birthday.\n",
      "\n",
      "    Args:\n",
      "        group_size (int): Number of people in the group.\n",
      "        num_sims (int): Number of simulation runs.\n",
      "\n",
      "    Returns:\n",
      "        float: Estimated probability of a shared birthday in the group.\n",
      "\n"
     ]
    }
   ],
   "source": [
    "# call \"help()\" on one of your functions in this cell.\n",
    "\n",
    "help(calculate_birthday_prob)"
   ]
  },
  {
   "cell_type": "markdown",
   "id": "03fa07db",
   "metadata": {},
   "source": [
    "In the cell below, create a \"calculation cell\" that defines two variables \"N\" (number of simulations to run) and \"G\" (group size) and uses your above functions to print out \"The probability of a group of size {G} having a common birthday is ___%\". \n",
    "\n",
    "You may choose any values for the specified group size and number of simulations."
   ]
  },
  {
   "cell_type": "code",
   "execution_count": 9,
   "id": "0c5b4188",
   "metadata": {},
   "outputs": [
    {
     "name": "stdout",
     "output_type": "stream",
     "text": [
      "Estimated probability of shared birthday in a group of 23 people: 0.50629\n"
     ]
    }
   ],
   "source": [
    "n = 100000\n",
    "g = 23\n",
    "\n",
    "print(f\"Estimated probability of shared birthday in a group of {g} people: {calculate_birthday_prob(g, n)}\")"
   ]
  },
  {
   "cell_type": "markdown",
   "id": "ba0046bc",
   "metadata": {},
   "source": [
    "In the cell below, demonstrate that your \"calculate_min_group()\" function works as intended by passing in a threshold value of 0.5 and a num_sims value of 100000."
   ]
  },
  {
   "cell_type": "code",
   "execution_count": 25,
   "id": "8c5f0e13",
   "metadata": {},
   "outputs": [
    {
     "name": "stdout",
     "output_type": "stream",
     "text": [
      "Now testing group size: 23\n",
      "23\n",
      "CPU times: user 7.96 s, sys: 5 ms, total: 7.96 s\n",
      "Wall time: 7.96 s\n"
     ]
    }
   ],
   "source": [
    "%%time\n",
    "\n",
    "print(calculate_min_group(0.50, 100000))"
   ]
  },
  {
   "cell_type": "markdown",
   "id": "4fcc6ceb",
   "metadata": {},
   "source": [
    "In the cell below, answer the questions listed in the lab document. \"Show your work\" for answering the questions in the cell below where you answered them."
   ]
  },
  {
   "cell_type": "markdown",
   "id": "9f8babcb",
   "metadata": {},
   "source": [
    "What is the probability of a group of size 20 that at least one pair has the same birthday?\n",
    "What is the smallest group size to have a probability of greater than 90% that two people share the same birthday?\n",
    "How large of an N is necessary to provide confidence in your answer?\n",
    "How is this problem related to hash collisions?\n",
    "What was the runtime difference between your laptop and ROSIE? Was this expected?"
   ]
  },
  {
   "cell_type": "code",
   "execution_count": 2,
   "id": "43fae257",
   "metadata": {},
   "outputs": [
    {
     "name": "stdout",
     "output_type": "stream",
     "text": [
      "Question 1:\n",
      "0.411449\n",
      "Question 2:\n",
      "Now testing group size: 41\n",
      "41\n"
     ]
    }
   ],
   "source": [
    "# 1\n",
    "print(\"Question 1:\")\n",
    "print(calculate_birthday_prob(20, 1000000))\n",
    "\n",
    "#2 \n",
    "print(\"Question 2:\")\n",
    "print(calculate_min_group(0.9, 1000000))"
   ]
  }
 ],
 "metadata": {
  "kernelspec": {
   "display_name": "Python 3 (ipykernel)",
   "language": "python",
   "name": "python3"
  },
  "language_info": {
   "codemirror_mode": {
    "name": "ipython",
    "version": 3
   },
   "file_extension": ".py",
   "mimetype": "text/x-python",
   "name": "python",
   "nbconvert_exporter": "python",
   "pygments_lexer": "ipython3",
   "version": "3.12.3"
  }
 },
 "nbformat": 4,
 "nbformat_minor": 5
}
